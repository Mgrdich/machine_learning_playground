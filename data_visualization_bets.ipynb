{
 "cells": [
  {
   "cell_type": "code",
   "execution_count": 1,
   "metadata": {
    "collapsed": true
   },
   "outputs": [],
   "source": [
    "import pymysql\n",
    "from util.enviroments import Envir\n",
    "connection = pymysql.connect(host=Envir['host'],\n",
    "                             user=Envir['user'],\n",
    "                             password=Envir['password'],\n",
    "                             database=Envir['BetDatabase1'],\n",
    "                             cursorclass=pymysql.cursors.DictCursor)"
   ]
  },
  {
   "cell_type": "code",
   "execution_count": 2,
   "outputs": [],
   "source": [
    "import numpy as np\n",
    "import pandas as pd\n",
    "import matplotlib.pyplot as plt\n",
    "import seaborn as sns"
   ],
   "metadata": {
    "collapsed": false,
    "pycharm": {
     "name": "#%%\n"
    }
   }
  },
  {
   "cell_type": "code",
   "execution_count": 3,
   "outputs": [
    {
     "data": {
      "text/plain": "   id                 date  bet_number\n0   0  2020-03-25 11:18:00        2.47\n1   1  2020-03-25 11:18:20       78.84\n2   2  2020-03-25 11:19:00        2.63\n3   3  2020-03-25 11:19:20        1.95\n4   4  2020-03-25 11:20:00       19.75",
      "text/html": "<div>\n<style scoped>\n    .dataframe tbody tr th:only-of-type {\n        vertical-align: middle;\n    }\n\n    .dataframe tbody tr th {\n        vertical-align: top;\n    }\n\n    .dataframe thead th {\n        text-align: right;\n    }\n</style>\n<table border=\"1\" class=\"dataframe\">\n  <thead>\n    <tr style=\"text-align: right;\">\n      <th></th>\n      <th>id</th>\n      <th>date</th>\n      <th>bet_number</th>\n    </tr>\n  </thead>\n  <tbody>\n    <tr>\n      <th>0</th>\n      <td>0</td>\n      <td>2020-03-25 11:18:00</td>\n      <td>2.47</td>\n    </tr>\n    <tr>\n      <th>1</th>\n      <td>1</td>\n      <td>2020-03-25 11:18:20</td>\n      <td>78.84</td>\n    </tr>\n    <tr>\n      <th>2</th>\n      <td>2</td>\n      <td>2020-03-25 11:19:00</td>\n      <td>2.63</td>\n    </tr>\n    <tr>\n      <th>3</th>\n      <td>3</td>\n      <td>2020-03-25 11:19:20</td>\n      <td>1.95</td>\n    </tr>\n    <tr>\n      <th>4</th>\n      <td>4</td>\n      <td>2020-03-25 11:20:00</td>\n      <td>19.75</td>\n    </tr>\n  </tbody>\n</table>\n</div>"
     },
     "execution_count": 3,
     "metadata": {},
     "output_type": "execute_result"
    }
   ],
   "source": [
    "df = pd.read_sql('SELECT * FROM bets', con=connection)\n",
    "df.head()"
   ],
   "metadata": {
    "collapsed": false,
    "pycharm": {
     "name": "#%%\n"
    }
   }
  },
  {
   "cell_type": "code",
   "execution_count": 4,
   "outputs": [
    {
     "data": {
      "text/plain": "            id                 date  bet_number\n167483  167483  2020-05-08 17:13:00        1.29\n167484  167484  2020-05-08 17:13:20        1.00\n167485  167485  2020-05-08 17:13:40        1.45\n167486  167486  2020-05-08 17:13:50        3.30\n167487  167487  2020-05-08 17:14:00        3.10",
      "text/html": "<div>\n<style scoped>\n    .dataframe tbody tr th:only-of-type {\n        vertical-align: middle;\n    }\n\n    .dataframe tbody tr th {\n        vertical-align: top;\n    }\n\n    .dataframe thead th {\n        text-align: right;\n    }\n</style>\n<table border=\"1\" class=\"dataframe\">\n  <thead>\n    <tr style=\"text-align: right;\">\n      <th></th>\n      <th>id</th>\n      <th>date</th>\n      <th>bet_number</th>\n    </tr>\n  </thead>\n  <tbody>\n    <tr>\n      <th>167483</th>\n      <td>167483</td>\n      <td>2020-05-08 17:13:00</td>\n      <td>1.29</td>\n    </tr>\n    <tr>\n      <th>167484</th>\n      <td>167484</td>\n      <td>2020-05-08 17:13:20</td>\n      <td>1.00</td>\n    </tr>\n    <tr>\n      <th>167485</th>\n      <td>167485</td>\n      <td>2020-05-08 17:13:40</td>\n      <td>1.45</td>\n    </tr>\n    <tr>\n      <th>167486</th>\n      <td>167486</td>\n      <td>2020-05-08 17:13:50</td>\n      <td>3.30</td>\n    </tr>\n    <tr>\n      <th>167487</th>\n      <td>167487</td>\n      <td>2020-05-08 17:14:00</td>\n      <td>3.10</td>\n    </tr>\n  </tbody>\n</table>\n</div>"
     },
     "execution_count": 4,
     "metadata": {},
     "output_type": "execute_result"
    }
   ],
   "source": [
    "df.tail()\n"
   ],
   "metadata": {
    "collapsed": false,
    "pycharm": {
     "name": "#%%\n"
    }
   }
  },
  {
   "cell_type": "code",
   "execution_count": null,
   "outputs": [],
   "source": [],
   "metadata": {
    "collapsed": false,
    "pycharm": {
     "name": "#%%\n"
    }
   }
  }
 ],
 "metadata": {
  "kernelspec": {
   "display_name": "Python 3",
   "language": "python",
   "name": "python3"
  },
  "language_info": {
   "codemirror_mode": {
    "name": "ipython",
    "version": 2
   },
   "file_extension": ".py",
   "mimetype": "text/x-python",
   "name": "python",
   "nbconvert_exporter": "python",
   "pygments_lexer": "ipython2",
   "version": "2.7.6"
  }
 },
 "nbformat": 4,
 "nbformat_minor": 0
}