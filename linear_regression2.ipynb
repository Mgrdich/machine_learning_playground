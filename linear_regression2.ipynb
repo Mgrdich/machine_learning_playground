{
 "cells": [
  {
   "cell_type": "code",
   "execution_count": 82,
   "metadata": {
    "collapsed": true
   },
   "outputs": [],
   "source": [
    "import pymysql\n",
    "connection = pymysql.connect(host='localhost',\n",
    "                             user='mgo',\n",
    "                             password='mgomgo@Mysql1',\n",
    "                             database='Test',\n",
    "                             cursorclass=pymysql.cursors.DictCursor)"
   ]
  },
  {
   "cell_type": "code",
   "execution_count": 83,
   "outputs": [],
   "source": [
    "import numpy as np\n",
    "import pandas as pd\n",
    "import matplotlib.pyplot as plt\n",
    "import seaborn as sns"
   ],
   "metadata": {
    "collapsed": false,
    "pycharm": {
     "name": "#%%\n"
    }
   }
  },
  {
   "cell_type": "code",
   "execution_count": 84,
   "outputs": [
    {
     "data": {
      "text/plain": "                 date  id  bet_number\n0  2020/3/25 11:18:00   1        2.47\n1  2020/3/25 11:18:00   2       78.84\n2  2020/3/25 11:19:00   3        2.63\n3  2020/3/25 11:19:00   4        1.95\n4  2020/3/25 11:20:00   5       19.75",
      "text/html": "<div>\n<style scoped>\n    .dataframe tbody tr th:only-of-type {\n        vertical-align: middle;\n    }\n\n    .dataframe tbody tr th {\n        vertical-align: top;\n    }\n\n    .dataframe thead th {\n        text-align: right;\n    }\n</style>\n<table border=\"1\" class=\"dataframe\">\n  <thead>\n    <tr style=\"text-align: right;\">\n      <th></th>\n      <th>date</th>\n      <th>id</th>\n      <th>bet_number</th>\n    </tr>\n  </thead>\n  <tbody>\n    <tr>\n      <th>0</th>\n      <td>2020/3/25 11:18:00</td>\n      <td>1</td>\n      <td>2.47</td>\n    </tr>\n    <tr>\n      <th>1</th>\n      <td>2020/3/25 11:18:00</td>\n      <td>2</td>\n      <td>78.84</td>\n    </tr>\n    <tr>\n      <th>2</th>\n      <td>2020/3/25 11:19:00</td>\n      <td>3</td>\n      <td>2.63</td>\n    </tr>\n    <tr>\n      <th>3</th>\n      <td>2020/3/25 11:19:00</td>\n      <td>4</td>\n      <td>1.95</td>\n    </tr>\n    <tr>\n      <th>4</th>\n      <td>2020/3/25 11:20:00</td>\n      <td>5</td>\n      <td>19.75</td>\n    </tr>\n  </tbody>\n</table>\n</div>"
     },
     "execution_count": 84,
     "metadata": {},
     "output_type": "execute_result"
    }
   ],
   "source": [
    "df = pd.read_sql('SELECT * FROM Downloads_bets', con=connection)\n",
    "df.head()"
   ],
   "metadata": {
    "collapsed": false,
    "pycharm": {
     "name": "#%%\n"
    }
   }
  },
  {
   "cell_type": "markdown",
   "source": [
    "### Data Transformation"
   ],
   "metadata": {
    "collapsed": false
   }
  },
  {
   "cell_type": "code",
   "execution_count": 85,
   "outputs": [],
   "source": [
    "df.drop('id',axis=1,inplace=True)"
   ],
   "metadata": {
    "collapsed": false,
    "pycharm": {
     "name": "#%%\n"
    }
   }
  },
  {
   "cell_type": "code",
   "execution_count": 86,
   "outputs": [
    {
     "data": {
      "text/plain": "                 date  bet_number\n0  2020/3/25 11:18:00        2.47\n1  2020/3/25 11:18:00       78.84\n2  2020/3/25 11:19:00        2.63\n3  2020/3/25 11:19:00        1.95\n4  2020/3/25 11:20:00       19.75",
      "text/html": "<div>\n<style scoped>\n    .dataframe tbody tr th:only-of-type {\n        vertical-align: middle;\n    }\n\n    .dataframe tbody tr th {\n        vertical-align: top;\n    }\n\n    .dataframe thead th {\n        text-align: right;\n    }\n</style>\n<table border=\"1\" class=\"dataframe\">\n  <thead>\n    <tr style=\"text-align: right;\">\n      <th></th>\n      <th>date</th>\n      <th>bet_number</th>\n    </tr>\n  </thead>\n  <tbody>\n    <tr>\n      <th>0</th>\n      <td>2020/3/25 11:18:00</td>\n      <td>2.47</td>\n    </tr>\n    <tr>\n      <th>1</th>\n      <td>2020/3/25 11:18:00</td>\n      <td>78.84</td>\n    </tr>\n    <tr>\n      <th>2</th>\n      <td>2020/3/25 11:19:00</td>\n      <td>2.63</td>\n    </tr>\n    <tr>\n      <th>3</th>\n      <td>2020/3/25 11:19:00</td>\n      <td>1.95</td>\n    </tr>\n    <tr>\n      <th>4</th>\n      <td>2020/3/25 11:20:00</td>\n      <td>19.75</td>\n    </tr>\n  </tbody>\n</table>\n</div>"
     },
     "execution_count": 86,
     "metadata": {},
     "output_type": "execute_result"
    }
   ],
   "source": [
    "df.head()"
   ],
   "metadata": {
    "collapsed": false,
    "pycharm": {
     "name": "#%%\n"
    }
   }
  },
  {
   "cell_type": "code",
   "execution_count": 87,
   "outputs": [],
   "source": [
    "df['date'] = pd.to_datetime(df['date'])"
   ],
   "metadata": {
    "collapsed": false,
    "pycharm": {
     "name": "#%%\n"
    }
   }
  },
  {
   "cell_type": "code",
   "execution_count": 88,
   "outputs": [
    {
     "data": {
      "text/plain": "                 date  bet_number\n0 2020-03-25 11:18:00        2.47\n1 2020-03-25 11:18:00       78.84\n2 2020-03-25 11:19:00        2.63\n3 2020-03-25 11:19:00        1.95\n4 2020-03-25 11:20:00       19.75",
      "text/html": "<div>\n<style scoped>\n    .dataframe tbody tr th:only-of-type {\n        vertical-align: middle;\n    }\n\n    .dataframe tbody tr th {\n        vertical-align: top;\n    }\n\n    .dataframe thead th {\n        text-align: right;\n    }\n</style>\n<table border=\"1\" class=\"dataframe\">\n  <thead>\n    <tr style=\"text-align: right;\">\n      <th></th>\n      <th>date</th>\n      <th>bet_number</th>\n    </tr>\n  </thead>\n  <tbody>\n    <tr>\n      <th>0</th>\n      <td>2020-03-25 11:18:00</td>\n      <td>2.47</td>\n    </tr>\n    <tr>\n      <th>1</th>\n      <td>2020-03-25 11:18:00</td>\n      <td>78.84</td>\n    </tr>\n    <tr>\n      <th>2</th>\n      <td>2020-03-25 11:19:00</td>\n      <td>2.63</td>\n    </tr>\n    <tr>\n      <th>3</th>\n      <td>2020-03-25 11:19:00</td>\n      <td>1.95</td>\n    </tr>\n    <tr>\n      <th>4</th>\n      <td>2020-03-25 11:20:00</td>\n      <td>19.75</td>\n    </tr>\n  </tbody>\n</table>\n</div>"
     },
     "execution_count": 88,
     "metadata": {},
     "output_type": "execute_result"
    }
   ],
   "source": [
    "df.head()"
   ],
   "metadata": {
    "collapsed": false,
    "pycharm": {
     "name": "#%%\n"
    }
   }
  },
  {
   "cell_type": "code",
   "execution_count": 89,
   "outputs": [],
   "source": [
    "# # Create figure and plot space\n",
    "# fig, ax = plt.subplots(figsize=(12, 12))\n",
    "#\n",
    "# # Add x-axis and y-axis\n",
    "# ax.bar(day['date'],\n",
    "#        day['bet_number'],\n",
    "#        color='purple')\n",
    "#\n",
    "# # Set title and labels for axes\n",
    "# ax.set(xlabel=\"Date\",\n",
    "#        ylabel=\"bet number\",\n",
    "#        title=\"Lets see\")\n",
    "#\n",
    "# plt.show()"
   ],
   "metadata": {
    "collapsed": false,
    "pycharm": {
     "name": "#%%\n"
    }
   }
  },
  {
   "cell_type": "code",
   "execution_count": 90,
   "outputs": [
    {
     "name": "stderr",
     "output_type": "stream",
     "text": [
      "<ipython-input-90-c84367ecd0fa>:6: SettingWithCopyWarning: \n",
      "A value is trying to be set on a copy of a slice from a DataFrame\n",
      "\n",
      "See the caveats in the documentation: https://pandas.pydata.org/pandas-docs/stable/user_guide/indexing.html#returning-a-view-versus-a-copy\n",
      "  df['date'][i] = df.loc[i]['date'] + pd.Timedelta('20s')\n"
     ]
    }
   ],
   "source": [
    "dfDateFilter = df.duplicated(subset=['date'])\n",
    "# print(day.loc[0]['date'])\n",
    "\n",
    "for i,row in df.iterrows():\n",
    "    if dfDateFilter[i]:\n",
    "        df['date'][i] = df.loc[i]['date'] + pd.Timedelta('20s')\n"
   ],
   "metadata": {
    "collapsed": false,
    "pycharm": {
     "name": "#%%\n"
    }
   }
  },
  {
   "cell_type": "code",
   "execution_count": 91,
   "outputs": [
    {
     "name": "stderr",
     "output_type": "stream",
     "text": [
      "<ipython-input-91-e1486d6b9465>:5: SettingWithCopyWarning: \n",
      "A value is trying to be set on a copy of a slice from a DataFrame\n",
      "\n",
      "See the caveats in the documentation: https://pandas.pydata.org/pandas-docs/stable/user_guide/indexing.html#returning-a-view-versus-a-copy\n",
      "  df['date'][i] = df.loc[i]['date'] + pd.Timedelta('20s')\n"
     ]
    }
   ],
   "source": [
    "dfDateFilter = df.duplicated(subset=['date'])\n",
    "\n",
    "for i,row in df.iterrows():\n",
    "    if dfDateFilter[i]:\n",
    "        df['date'][i] = df.loc[i]['date'] + pd.Timedelta('20s')\n",
    "\n"
   ],
   "metadata": {
    "collapsed": false,
    "pycharm": {
     "name": "#%%\n"
    }
   }
  },
  {
   "cell_type": "code",
   "execution_count": 92,
   "outputs": [
    {
     "name": "stderr",
     "output_type": "stream",
     "text": [
      "<ipython-input-92-06e31295d74d>:5: SettingWithCopyWarning: \n",
      "A value is trying to be set on a copy of a slice from a DataFrame\n",
      "\n",
      "See the caveats in the documentation: https://pandas.pydata.org/pandas-docs/stable/user_guide/indexing.html#returning-a-view-versus-a-copy\n",
      "  df['date'][i] = df.loc[i]['date'] + pd.Timedelta('10s')\n"
     ]
    }
   ],
   "source": [
    "dfDateFilter = df.duplicated(subset=['date'])\n",
    "\n",
    "for i,row in df.iterrows():\n",
    "    if dfDateFilter[i]:\n",
    "        df['date'][i] = df.loc[i]['date'] + pd.Timedelta('10s')"
   ],
   "metadata": {
    "collapsed": false,
    "pycharm": {
     "name": "#%%\n"
    }
   }
  },
  {
   "cell_type": "code",
   "execution_count": 95,
   "outputs": [],
   "source": [
    "day = df[(df['date'] > '2020-03-25') & (df['date'] < '2020-03-26')]"
   ],
   "metadata": {
    "collapsed": false,
    "pycharm": {
     "name": "#%%\n"
    }
   }
  },
  {
   "cell_type": "code",
   "execution_count": 96,
   "outputs": [
    {
     "data": {
      "text/plain": "                 date  bet_number\n0 2020-03-25 11:18:00        2.47\n1 2020-03-25 11:18:20       78.84\n2 2020-03-25 11:19:00        2.63\n3 2020-03-25 11:19:20        1.95\n4 2020-03-25 11:20:00       19.75",
      "text/html": "<div>\n<style scoped>\n    .dataframe tbody tr th:only-of-type {\n        vertical-align: middle;\n    }\n\n    .dataframe tbody tr th {\n        vertical-align: top;\n    }\n\n    .dataframe thead th {\n        text-align: right;\n    }\n</style>\n<table border=\"1\" class=\"dataframe\">\n  <thead>\n    <tr style=\"text-align: right;\">\n      <th></th>\n      <th>date</th>\n      <th>bet_number</th>\n    </tr>\n  </thead>\n  <tbody>\n    <tr>\n      <th>0</th>\n      <td>2020-03-25 11:18:00</td>\n      <td>2.47</td>\n    </tr>\n    <tr>\n      <th>1</th>\n      <td>2020-03-25 11:18:20</td>\n      <td>78.84</td>\n    </tr>\n    <tr>\n      <th>2</th>\n      <td>2020-03-25 11:19:00</td>\n      <td>2.63</td>\n    </tr>\n    <tr>\n      <th>3</th>\n      <td>2020-03-25 11:19:20</td>\n      <td>1.95</td>\n    </tr>\n    <tr>\n      <th>4</th>\n      <td>2020-03-25 11:20:00</td>\n      <td>19.75</td>\n    </tr>\n  </tbody>\n</table>\n</div>"
     },
     "execution_count": 96,
     "metadata": {},
     "output_type": "execute_result"
    }
   ],
   "source": [
    "df.head()"
   ],
   "metadata": {
    "collapsed": false,
    "pycharm": {
     "name": "#%%\n"
    }
   }
  },
  {
   "cell_type": "code",
   "execution_count": 97,
   "outputs": [
    {
     "data": {
      "text/plain": "                      date  bet_number\n167483 2020-05-08 17:13:00        1.29\n167484 2020-05-08 17:13:20        1.00\n167485 2020-05-08 17:13:40        1.45\n167486 2020-05-08 17:13:50        3.30\n167487 2020-05-08 17:14:00        3.10",
      "text/html": "<div>\n<style scoped>\n    .dataframe tbody tr th:only-of-type {\n        vertical-align: middle;\n    }\n\n    .dataframe tbody tr th {\n        vertical-align: top;\n    }\n\n    .dataframe thead th {\n        text-align: right;\n    }\n</style>\n<table border=\"1\" class=\"dataframe\">\n  <thead>\n    <tr style=\"text-align: right;\">\n      <th></th>\n      <th>date</th>\n      <th>bet_number</th>\n    </tr>\n  </thead>\n  <tbody>\n    <tr>\n      <th>167483</th>\n      <td>2020-05-08 17:13:00</td>\n      <td>1.29</td>\n    </tr>\n    <tr>\n      <th>167484</th>\n      <td>2020-05-08 17:13:20</td>\n      <td>1.00</td>\n    </tr>\n    <tr>\n      <th>167485</th>\n      <td>2020-05-08 17:13:40</td>\n      <td>1.45</td>\n    </tr>\n    <tr>\n      <th>167486</th>\n      <td>2020-05-08 17:13:50</td>\n      <td>3.30</td>\n    </tr>\n    <tr>\n      <th>167487</th>\n      <td>2020-05-08 17:14:00</td>\n      <td>3.10</td>\n    </tr>\n  </tbody>\n</table>\n</div>"
     },
     "execution_count": 97,
     "metadata": {},
     "output_type": "execute_result"
    }
   ],
   "source": [
    "df.tail()"
   ],
   "metadata": {
    "collapsed": false,
    "pycharm": {
     "name": "#%%\n"
    }
   }
  },
  {
   "cell_type": "code",
   "execution_count": 97,
   "outputs": [],
   "source": [],
   "metadata": {
    "collapsed": false,
    "pycharm": {
     "name": "#%%\n"
    }
   }
  }
 ],
 "metadata": {
  "kernelspec": {
   "display_name": "Python 3",
   "language": "python",
   "name": "python3"
  },
  "language_info": {
   "codemirror_mode": {
    "name": "ipython",
    "version": 2
   },
   "file_extension": ".py",
   "mimetype": "text/x-python",
   "name": "python",
   "nbconvert_exporter": "python",
   "pygments_lexer": "ipython2",
   "version": "2.7.6"
  }
 },
 "nbformat": 4,
 "nbformat_minor": 0
}