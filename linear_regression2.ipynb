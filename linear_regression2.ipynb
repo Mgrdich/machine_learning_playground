{
 "cells": [
  {
   "cell_type": "code",
   "execution_count": 4,
   "metadata": {
    "collapsed": true
   },
   "outputs": [],
   "source": [
    "import pymysql\n",
    "connection = pymysql.connect(host='localhost',\n",
    "                             user='mgo',\n",
    "                             password='mgomgo@Mysql1',\n",
    "                             database='Test',\n",
    "                             cursorclass=pymysql.cursors.DictCursor)"
   ]
  },
  {
   "cell_type": "code",
   "execution_count": 5,
   "outputs": [],
   "source": [
    "import numpy as np\n",
    "import pandas as pd\n",
    "import matplotlib.pyplot as plt\n",
    "import seaborn as sns"
   ],
   "metadata": {
    "collapsed": false,
    "pycharm": {
     "name": "#%%\n"
    }
   }
  },
  {
   "cell_type": "code",
   "execution_count": 7,
   "outputs": [
    {
     "data": {
      "text/plain": "                 date  id  bet_number\n0  2020/3/25 11:18:00   1        2.47\n1  2020/3/25 11:18:00   2       78.84\n2  2020/3/25 11:19:00   3        2.63\n3  2020/3/25 11:19:00   4        1.95\n4  2020/3/25 11:20:00   5       19.75",
      "text/html": "<div>\n<style scoped>\n    .dataframe tbody tr th:only-of-type {\n        vertical-align: middle;\n    }\n\n    .dataframe tbody tr th {\n        vertical-align: top;\n    }\n\n    .dataframe thead th {\n        text-align: right;\n    }\n</style>\n<table border=\"1\" class=\"dataframe\">\n  <thead>\n    <tr style=\"text-align: right;\">\n      <th></th>\n      <th>date</th>\n      <th>id</th>\n      <th>bet_number</th>\n    </tr>\n  </thead>\n  <tbody>\n    <tr>\n      <th>0</th>\n      <td>2020/3/25 11:18:00</td>\n      <td>1</td>\n      <td>2.47</td>\n    </tr>\n    <tr>\n      <th>1</th>\n      <td>2020/3/25 11:18:00</td>\n      <td>2</td>\n      <td>78.84</td>\n    </tr>\n    <tr>\n      <th>2</th>\n      <td>2020/3/25 11:19:00</td>\n      <td>3</td>\n      <td>2.63</td>\n    </tr>\n    <tr>\n      <th>3</th>\n      <td>2020/3/25 11:19:00</td>\n      <td>4</td>\n      <td>1.95</td>\n    </tr>\n    <tr>\n      <th>4</th>\n      <td>2020/3/25 11:20:00</td>\n      <td>5</td>\n      <td>19.75</td>\n    </tr>\n  </tbody>\n</table>\n</div>"
     },
     "execution_count": 7,
     "metadata": {},
     "output_type": "execute_result"
    }
   ],
   "source": [
    "df = pd.read_sql('SELECT * FROM Downloads_bets', con=connection)\n",
    "df.head()"
   ],
   "metadata": {
    "collapsed": false,
    "pycharm": {
     "name": "#%%\n"
    }
   }
  },
  {
   "cell_type": "code",
   "execution_count": null,
   "outputs": [],
   "source": [],
   "metadata": {
    "collapsed": false,
    "pycharm": {
     "name": "#%%\n"
    }
   }
  }
 ],
 "metadata": {
  "kernelspec": {
   "display_name": "Python 3",
   "language": "python",
   "name": "python3"
  },
  "language_info": {
   "codemirror_mode": {
    "name": "ipython",
    "version": 2
   },
   "file_extension": ".py",
   "mimetype": "text/x-python",
   "name": "python",
   "nbconvert_exporter": "python",
   "pygments_lexer": "ipython2",
   "version": "2.7.6"
  }
 },
 "nbformat": 4,
 "nbformat_minor": 0
}