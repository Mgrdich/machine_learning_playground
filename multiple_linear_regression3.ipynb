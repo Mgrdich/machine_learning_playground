{
 "cells": [
  {
   "cell_type": "code",
   "execution_count": 17,
   "metadata": {
    "collapsed": true
   },
   "outputs": [],
   "source": [
    "import numpy as np\n",
    "import pandas as pd\n",
    "import matplotlib.pyplot as plt\n",
    "import seaborn as sns\n",
    "import statsmodels.api as sm"
   ]
  },
  {
   "cell_type": "markdown",
   "source": [
    "## Model selection using Recursive elimination"
   ],
   "metadata": {
    "collapsed": false,
    "pycharm": {
     "name": "#%% md\n"
    }
   }
  },
  {
   "cell_type": "code",
   "execution_count": 18,
   "outputs": [],
   "source": [
    "housing = pd.read_csv('data/Housing.csv')"
   ],
   "metadata": {
    "collapsed": false,
    "pycharm": {
     "name": "#%%\n"
    }
   }
  },
  {
   "cell_type": "markdown",
   "source": [
    "### Data preparation\n",
    "* transforming yes and no into Binary\n",
    "* also do some innovation in furnished data"
   ],
   "metadata": {
    "collapsed": false
   }
  },
  {
   "cell_type": "code",
   "execution_count": 19,
   "outputs": [],
   "source": [
    "# map is an extension pf pandas\n",
    "housing['mainroad'] = housing['mainroad'].map({'yes':1,'no':0})\n",
    "housing['guestroom'] = housing['guestroom'].map({'yes':1,'no':0})\n",
    "housing['basement'] = housing['basement'].map({'yes':1,'no':0})\n",
    "housing['hotwaterheating'] = housing['hotwaterheating'].map({'yes':1,'no':0})\n",
    "housing['airconditioning'] = housing['airconditioning'].map({'yes':1,'no':0})\n",
    "housing['prefarea'] = housing['prefarea'].map({'yes':1,'no':0})"
   ],
   "metadata": {
    "collapsed": false,
    "pycharm": {
     "name": "#%%\n"
    }
   }
  },
  {
   "cell_type": "code",
   "execution_count": 20,
   "outputs": [],
   "source": [
    "# data refacor\n",
    "status = pd.get_dummies(housing['furnishingstatus'],drop_first=True)\n",
    "housing = pd.concat([housing,status],axis=1)\n",
    "housing.drop(['furnishingstatus'],axis=1,inplace=True)"
   ],
   "metadata": {
    "collapsed": false,
    "pycharm": {
     "name": "#%%\n"
    }
   }
  },
  {
   "cell_type": "code",
   "source": [
    "housing['areaPerBedroom'] = housing['area']/housing['bedrooms']\n",
    "housing['bbratio'] = housing['bathrooms']/housing['bedrooms']"
   ],
   "metadata": {
    "collapsed": false,
    "pycharm": {
     "name": "#%%\n"
    }
   },
   "execution_count": 21,
   "outputs": []
  },
  {
   "cell_type": "code",
   "execution_count": 29,
   "outputs": [],
   "source": [
    "def normalize(x):\n",
    "    minVal = min(x)\n",
    "    return (x - minVal) / (max(x) - minVal)"
   ],
   "metadata": {
    "collapsed": false,
    "pycharm": {
     "name": "#%%\n"
    }
   }
  },
  {
   "cell_type": "code",
   "execution_count": 30,
   "outputs": [],
   "source": [
    "housing = housing.apply(normalize)"
   ],
   "metadata": {
    "collapsed": false,
    "pycharm": {
     "name": "#%%\n"
    }
   }
  },
  {
   "cell_type": "code",
   "execution_count": 31,
   "outputs": [],
   "source": [
    "all_list = np.array(housing.columns)\n",
    "x_list = all_list[all_list!='price'] # filtering\n",
    "\n",
    "X = housing[x_list]\n",
    "y = housing['price']"
   ],
   "metadata": {
    "collapsed": false,
    "pycharm": {
     "name": "#%%\n"
    }
   }
  },
  {
   "cell_type": "code",
   "execution_count": 32,
   "outputs": [],
   "source": [
    "from sklearn.model_selection import train_test_split\n",
    "X_train,X_test,y_train,y_test = train_test_split(X,y,train_size=.7,random_state=100)\n"
   ],
   "metadata": {
    "collapsed": false,
    "pycharm": {
     "name": "#%%\n"
    }
   }
  },
  {
   "cell_type": "markdown",
   "source": [
    "## RFE"
   ],
   "metadata": {
    "collapsed": false,
    "pycharm": {
     "name": "#%% md\n"
    }
   }
  },
  {
   "cell_type": "code",
   "execution_count": 33,
   "outputs": [],
   "source": [
    "from sklearn.feature_selection import RFE\n",
    "from sklearn.linear_model import LinearRegression"
   ],
   "metadata": {
    "collapsed": false,
    "pycharm": {
     "name": "#%%\n"
    }
   }
  },
  {
   "cell_type": "code",
   "execution_count": 39,
   "outputs": [
    {
     "name": "stdout",
     "output_type": "stream",
     "text": [
      "[ True False  True  True  True False False  True  True False  True False\n",
      " False  True  True]\n",
      "[1 3 1 1 1 4 6 1 1 2 1 7 5 1 1]\n"
     ]
    }
   ],
   "source": [
    "# 9 indicates how many columns we want best of them\n",
    "lm = LinearRegression()\n",
    "rfe = RFE(lm,n_features_to_select=9)\n",
    "rfe = rfe.fit(X=X_train,y=y_train)\n",
    "print(rfe.support_)\n",
    "print(rfe.ranking_)"
   ],
   "metadata": {
    "collapsed": false,
    "pycharm": {
     "name": "#%%\n"
    }
   }
  },
  {
   "cell_type": "code",
   "execution_count": 58,
   "outputs": [
    {
     "ename": "ValueError",
     "evalue": "The truth value of an array with more than one element is ambiguous. Use a.any() or a.all()",
     "output_type": "error",
     "traceback": [
      "\u001B[0;31m---------------------------------------------------------------------------\u001B[0m",
      "\u001B[0;31mValueError\u001B[0m                                Traceback (most recent call last)",
      "\u001B[0;32m<ipython-input-58-b2da0766c065>\u001B[0m in \u001B[0;36m<module>\u001B[0;34m\u001B[0m\n\u001B[1;32m      1\u001B[0m \u001B[0mcol\u001B[0m \u001B[0;34m=\u001B[0m \u001B[0mX_train\u001B[0m\u001B[0;34m.\u001B[0m\u001B[0mcolumns\u001B[0m\u001B[0;34m[\u001B[0m\u001B[0mrfe\u001B[0m\u001B[0;34m.\u001B[0m\u001B[0msupport_\u001B[0m\u001B[0;34m]\u001B[0m\u001B[0;34m\u001B[0m\u001B[0;34m\u001B[0m\u001B[0m\n\u001B[0;32m----> 2\u001B[0;31m \u001B[0mrevertCol\u001B[0m \u001B[0;34m=\u001B[0m \u001B[0mX_train\u001B[0m\u001B[0;34m.\u001B[0m\u001B[0mcolumns\u001B[0m\u001B[0;34m[\u001B[0m\u001B[0;32mnot\u001B[0m \u001B[0mrfe\u001B[0m\u001B[0;34m.\u001B[0m\u001B[0msupport_\u001B[0m\u001B[0;34m]\u001B[0m\u001B[0;34m\u001B[0m\u001B[0;34m\u001B[0m\u001B[0m\n\u001B[0m\u001B[1;32m      3\u001B[0m \u001B[0mprint\u001B[0m\u001B[0;34m(\u001B[0m\u001B[0mcol\u001B[0m\u001B[0;34m)\u001B[0m\u001B[0;34m\u001B[0m\u001B[0;34m\u001B[0m\u001B[0m\n\u001B[1;32m      4\u001B[0m \u001B[0mprint\u001B[0m\u001B[0;34m(\u001B[0m\u001B[0mrevertCol\u001B[0m\u001B[0;34m)\u001B[0m\u001B[0;34m\u001B[0m\u001B[0;34m\u001B[0m\u001B[0m\n",
      "\u001B[0;31mValueError\u001B[0m: The truth value of an array with more than one element is ambiguous. Use a.any() or a.all()"
     ]
    }
   ],
   "source": [
    "col = X_train.columns[rfe.support_]\n",
    "print(col)"
   ],
   "metadata": {
    "collapsed": false,
    "pycharm": {
     "name": "#%%\n"
    }
   }
  },
  {
   "cell_type": "markdown",
   "source": [
    "Building Model using sklearn"
   ],
   "metadata": {
    "collapsed": false,
    "pycharm": {
     "name": "#%% md\n"
    }
   }
  },
  {
   "cell_type": "code",
   "execution_count": 43,
   "outputs": [],
   "source": [
    "X_train_rfe = X_train[col]"
   ],
   "metadata": {
    "collapsed": false,
    "pycharm": {
     "name": "#%%\n"
    }
   }
  },
  {
   "cell_type": "code",
   "execution_count": 45,
   "outputs": [],
   "source": [
    "X_train_rfe = sm.add_constant(X_train_rfe)"
   ],
   "metadata": {
    "collapsed": false,
    "pycharm": {
     "name": "#%%\n"
    }
   }
  },
  {
   "cell_type": "code",
   "execution_count": 46,
   "outputs": [],
   "source": [
    "lm = sm.OLS(y_train,X_train_rfe).fit()"
   ],
   "metadata": {
    "collapsed": false,
    "pycharm": {
     "name": "#%%\n"
    }
   }
  },
  {
   "cell_type": "code",
   "execution_count": 47,
   "outputs": [
    {
     "name": "stdout",
     "output_type": "stream",
     "text": [
      "                            OLS Regression Results                            \n",
      "==============================================================================\n",
      "Dep. Variable:                  price   R-squared:                       0.660\n",
      "Model:                            OLS   Adj. R-squared:                  0.652\n",
      "Method:                 Least Squares   F-statistic:                     80.14\n",
      "Date:                Sun, 07 Feb 2021   Prob (F-statistic):           1.89e-81\n",
      "Time:                        16:11:00   Log-Likelihood:                 369.50\n",
      "No. Observations:                 381   AIC:                            -719.0\n",
      "Df Residuals:                     371   BIC:                            -679.6\n",
      "Df Model:                           9                                         \n",
      "Covariance Type:            nonrobust                                         \n",
      "===================================================================================\n",
      "                      coef    std err          t      P>|t|      [0.025      0.975]\n",
      "-----------------------------------------------------------------------------------\n",
      "const               0.4402      0.132      3.329      0.001       0.180       0.700\n",
      "area                0.7022      0.130      5.420      0.000       0.447       0.957\n",
      "bathrooms           0.1719      0.098      1.760      0.079      -0.020       0.364\n",
      "stories             0.0814      0.019      4.320      0.000       0.044       0.118\n",
      "mainroad           -0.0648      0.014     -4.473      0.000      -0.093      -0.036\n",
      "hotwaterheating    -0.1002      0.022     -4.520      0.000      -0.144      -0.057\n",
      "airconditioning    -0.0775      0.011     -6.804      0.000      -0.100      -0.055\n",
      "prefarea           -0.0631      0.012     -5.286      0.000      -0.087      -0.040\n",
      "areaPerBedroom     -0.4096      0.143     -2.868      0.004      -0.690      -0.129\n",
      "bbratio            -0.1156      0.080     -1.449      0.148      -0.272       0.041\n",
      "==============================================================================\n",
      "Omnibus:                       85.593   Durbin-Watson:                   2.108\n",
      "Prob(Omnibus):                  0.000   Jarque-Bera (JB):              273.932\n",
      "Skew:                          -0.999   Prob(JB):                     3.28e-60\n",
      "Kurtosis:                       6.642   Cond. No.                         114.\n",
      "==============================================================================\n",
      "\n",
      "Notes:\n",
      "[1] Standard Errors assume that the covariance matrix of the errors is correctly specified.\n"
     ]
    }
   ],
   "source": [
    "print(lm.summary())"
   ],
   "metadata": {
    "collapsed": false,
    "pycharm": {
     "name": "#%%\n"
    }
   }
  },
  {
   "cell_type": "code",
   "execution_count": 48,
   "outputs": [],
   "source": [
    "def vif_cal(input_data,dependent_col):\n",
    "    vif_df = pd.DataFrame(columns=['Var','Vif'])\n",
    "    x_vars = input_data.drop([dependent_col],axis=1)\n",
    "    x_var_name = x_vars.columns\n",
    "    for i in range(0,x_var_name.shape[0]):\n",
    "        y = x_vars[x_var_name[i]]\n",
    "        x = x_vars[x_var_name.drop(x_var_name[i])]\n",
    "        rsq = sm.OLS(y,x).fit().rsquared\n",
    "        vif = round(1/(1-rsq),2)\n",
    "        vif_df.loc[i] = [x_var_name[i],vif]\n",
    "    return vif_df.sort_values(by='Vif',axis=0,ascending=False,inplace=False)"
   ],
   "metadata": {
    "collapsed": false,
    "pycharm": {
     "name": "#%%\n"
    }
   }
  },
  {
   "cell_type": "code",
   "execution_count": 57,
   "outputs": [
    {
     "data": {
      "text/plain": "                Var     Vif\n13   areaPerBedroom  251.16\n0              area  232.60\n2         bathrooms  161.60\n1          bedrooms  151.10\n14          bbratio   22.30\n3           stories   10.99\n4          mainroad    8.16\n11   semi-furnished    2.71\n12      unfurnished    2.50\n6          basement    2.04\n9           parking    2.00\n8   airconditioning    1.75\n10         prefarea    1.51\n5         guestroom    1.49\n7   hotwaterheating    1.09",
      "text/html": "<div>\n<style scoped>\n    .dataframe tbody tr th:only-of-type {\n        vertical-align: middle;\n    }\n\n    .dataframe tbody tr th {\n        vertical-align: top;\n    }\n\n    .dataframe thead th {\n        text-align: right;\n    }\n</style>\n<table border=\"1\" class=\"dataframe\">\n  <thead>\n    <tr style=\"text-align: right;\">\n      <th></th>\n      <th>Var</th>\n      <th>Vif</th>\n    </tr>\n  </thead>\n  <tbody>\n    <tr>\n      <th>13</th>\n      <td>areaPerBedroom</td>\n      <td>251.16</td>\n    </tr>\n    <tr>\n      <th>0</th>\n      <td>area</td>\n      <td>232.60</td>\n    </tr>\n    <tr>\n      <th>2</th>\n      <td>bathrooms</td>\n      <td>161.60</td>\n    </tr>\n    <tr>\n      <th>1</th>\n      <td>bedrooms</td>\n      <td>151.10</td>\n    </tr>\n    <tr>\n      <th>14</th>\n      <td>bbratio</td>\n      <td>22.30</td>\n    </tr>\n    <tr>\n      <th>3</th>\n      <td>stories</td>\n      <td>10.99</td>\n    </tr>\n    <tr>\n      <th>4</th>\n      <td>mainroad</td>\n      <td>8.16</td>\n    </tr>\n    <tr>\n      <th>11</th>\n      <td>semi-furnished</td>\n      <td>2.71</td>\n    </tr>\n    <tr>\n      <th>12</th>\n      <td>unfurnished</td>\n      <td>2.50</td>\n    </tr>\n    <tr>\n      <th>6</th>\n      <td>basement</td>\n      <td>2.04</td>\n    </tr>\n    <tr>\n      <th>9</th>\n      <td>parking</td>\n      <td>2.00</td>\n    </tr>\n    <tr>\n      <th>8</th>\n      <td>airconditioning</td>\n      <td>1.75</td>\n    </tr>\n    <tr>\n      <th>10</th>\n      <td>prefarea</td>\n      <td>1.51</td>\n    </tr>\n    <tr>\n      <th>5</th>\n      <td>guestroom</td>\n      <td>1.49</td>\n    </tr>\n    <tr>\n      <th>7</th>\n      <td>hotwaterheating</td>\n      <td>1.09</td>\n    </tr>\n  </tbody>\n</table>\n</div>"
     },
     "execution_count": 57,
     "metadata": {},
     "output_type": "execute_result"
    }
   ],
   "source": [
    "# vif_cal(input_data=housing,dependent_col='price')"
   ],
   "metadata": {
    "collapsed": false,
    "pycharm": {
     "name": "#%%\n"
    }
   }
  },
  {
   "cell_type": "markdown",
   "source": [
    "## Model Predictions"
   ],
   "metadata": {
    "collapsed": false
   }
  },
  {
   "cell_type": "code",
   "execution_count": 59,
   "outputs": [],
   "source": [
    "X_test_rfe = X_test[col]\n",
    "\n",
    "X_test_rfe = sm.add_constant(X_test_rfe)\n",
    "\n",
    "y_pred = lm.predict(X_test_rfe)"
   ],
   "metadata": {
    "collapsed": false,
    "pycharm": {
     "name": "#%%\n"
    }
   }
  },
  {
   "cell_type": "code",
   "execution_count": 60,
   "outputs": [
    {
     "data": {
      "text/plain": "<Figure size 432x288 with 1 Axes>",
      "image/png": "[encoded data removed]"
     },
     "metadata": {
      "needs_background": "light"
     },
     "output_type": "display_data"
    }
   ],
   "source": [
    "# actual vs predicted\n",
    "c = [i for i in range(1,165,1)] # 544 total .3 is 165\n",
    "fig = plt.figure()\n",
    "plt.plot(c,y_test,color='blue',linewidth=2.5,linestyle ='-')\n",
    "plt.plot(c,y_pred,color='red',linewidth=2.5,linestyle='-')\n",
    "fig.suptitle('Actual and Predicted',fontsize=20)\n",
    "plt.xlabel('Index',fontsize=18)\n",
    "plt.ylabel('Housing Price',fontsize=16)\n",
    "plt.show()"
   ],
   "metadata": {
    "collapsed": false,
    "pycharm": {
     "name": "#%%\n"
    }
   }
  },
  {
   "cell_type": "markdown",
   "source": [
    "## Error Margin"
   ],
   "metadata": {
    "collapsed": false,
    "pycharm": {
     "name": "#%% md\n"
    }
   }
  },
  {
   "cell_type": "code",
   "execution_count": 62,
   "outputs": [
    {
     "data": {
      "text/plain": "<Figure size 432x288 with 1 Axes>",
      "image/png": "[encoded data removed]"
     },
     "metadata": {
      "needs_background": "light"
     },
     "output_type": "display_data"
    }
   ],
   "source": [
    "# actual vs predicted\n",
    "c = [i for i in range(1,165,1)] # 544 total .3 is 165\n",
    "fig = plt.figure()\n",
    "plt.plot(c,y_test - y_pred,color='blue',linewidth=2.5,linestyle ='-')\n",
    "fig.suptitle('Actual and Predicted',fontsize=20)\n",
    "plt.show()\n",
    "\n"
   ],
   "metadata": {
    "collapsed": false,
    "pycharm": {
     "name": "#%%\n"
    }
   }
  }
 ],
 "metadata": {
  "kernelspec": {
   "display_name": "Python 3",
   "language": "python",
   "name": "python3"
  },
  "language_info": {
   "codemirror_mode": {
    "name": "ipython",
    "version": 2
   },
   "file_extension": ".py",
   "mimetype": "text/x-python",
   "name": "python",
   "nbconvert_exporter": "python",
   "pygments_lexer": "ipython2",
   "version": "2.7.6"
  }
 },
 "nbformat": 4,
 "nbformat_minor": 0
}