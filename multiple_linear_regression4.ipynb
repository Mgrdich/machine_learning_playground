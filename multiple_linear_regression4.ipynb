{
 "cells": [
  {
   "cell_type": "markdown",
   "metadata": {
    "collapsed": true,
    "pycharm": {
     "name": "#%% md\n"
    }
   },
   "source": [
    "## Case study for Media company\n",
    "Some Reasons\n",
    "* Decline in number of people coming to the platform\n",
    "* fewer people watching video\n",
    "* decrease in marketing spend\n",
    "* competitive shows\n",
    "* special holidays\n",
    "* Twist in the story"
   ]
  },
  {
   "cell_type": "code",
   "execution_count": 2,
   "outputs": [],
   "source": [
    "import numpy as np\n",
    "import pandas as pd\n",
    "import matplotlib.pyplot as plt\n",
    "import seaborn as sns\n",
    "import statsmodels.api as sm"
   ],
   "metadata": {
    "collapsed": false,
    "pycharm": {
     "name": "#%%\n"
    }
   }
  },
  {
   "cell_type": "code",
   "execution_count": 5,
   "outputs": [],
   "source": [
    "media = pd.read_csv('data/mediacompany.csv')\n",
    "media = media.drop('Unnamed: 7',axis=1)"
   ],
   "metadata": {
    "collapsed": false,
    "pycharm": {
     "name": "#%%\n"
    }
   }
  },
  {
   "cell_type": "code",
   "execution_count": 6,
   "outputs": [
    {
     "data": {
      "text/plain": "       Date  Views_show  Visitors  Views_platform  Ad_impression  \\\n0  3/1/2017      183738   1260228         1706478     1060860448   \n1  3/2/2017      193763   1270561         1690727     1031846645   \n2  3/3/2017      210479   1248183         1726157     1010867575   \n3  3/4/2017      240061   1492913         1855353     1079194579   \n4  3/5/2017      446314   1594712         2041418     1357736987   \n\n   Cricket_match_india  Character_A  \n0                    0            0  \n1                    0            0  \n2                    0            0  \n3                    1            0  \n4                    0            0  ",
      "text/html": "<div>\n<style scoped>\n    .dataframe tbody tr th:only-of-type {\n        vertical-align: middle;\n    }\n\n    .dataframe tbody tr th {\n        vertical-align: top;\n    }\n\n    .dataframe thead th {\n        text-align: right;\n    }\n</style>\n<table border=\"1\" class=\"dataframe\">\n  <thead>\n    <tr style=\"text-align: right;\">\n      <th></th>\n      <th>Date</th>\n      <th>Views_show</th>\n      <th>Visitors</th>\n      <th>Views_platform</th>\n      <th>Ad_impression</th>\n      <th>Cricket_match_india</th>\n      <th>Character_A</th>\n    </tr>\n  </thead>\n  <tbody>\n    <tr>\n      <th>0</th>\n      <td>3/1/2017</td>\n      <td>183738</td>\n      <td>1260228</td>\n      <td>1706478</td>\n      <td>1060860448</td>\n      <td>0</td>\n      <td>0</td>\n    </tr>\n    <tr>\n      <th>1</th>\n      <td>3/2/2017</td>\n      <td>193763</td>\n      <td>1270561</td>\n      <td>1690727</td>\n      <td>1031846645</td>\n      <td>0</td>\n      <td>0</td>\n    </tr>\n    <tr>\n      <th>2</th>\n      <td>3/3/2017</td>\n      <td>210479</td>\n      <td>1248183</td>\n      <td>1726157</td>\n      <td>1010867575</td>\n      <td>0</td>\n      <td>0</td>\n    </tr>\n    <tr>\n      <th>3</th>\n      <td>3/4/2017</td>\n      <td>240061</td>\n      <td>1492913</td>\n      <td>1855353</td>\n      <td>1079194579</td>\n      <td>1</td>\n      <td>0</td>\n    </tr>\n    <tr>\n      <th>4</th>\n      <td>3/5/2017</td>\n      <td>446314</td>\n      <td>1594712</td>\n      <td>2041418</td>\n      <td>1357736987</td>\n      <td>0</td>\n      <td>0</td>\n    </tr>\n  </tbody>\n</table>\n</div>"
     },
     "execution_count": 6,
     "metadata": {},
     "output_type": "execute_result"
    }
   ],
   "source": [
    "media.head()"
   ],
   "metadata": {
    "collapsed": false,
    "pycharm": {
     "name": "#%%\n"
    }
   }
  },
  {
   "cell_type": "code",
   "execution_count": 7,
   "outputs": [],
   "source": [
    "media['Date'] = pd.to_datetime(media['Date'])\n"
   ],
   "metadata": {
    "collapsed": false,
    "pycharm": {
     "name": "#%%\n"
    }
   }
  },
  {
   "cell_type": "code",
   "execution_count": 8,
   "outputs": [
    {
     "data": {
      "text/plain": "        Date  Views_show  Visitors  Views_platform  Ad_impression  \\\n0 2017-03-01      183738   1260228         1706478     1060860448   \n1 2017-03-02      193763   1270561         1690727     1031846645   \n2 2017-03-03      210479   1248183         1726157     1010867575   \n3 2017-03-04      240061   1492913         1855353     1079194579   \n4 2017-03-05      446314   1594712         2041418     1357736987   \n\n   Cricket_match_india  Character_A  \n0                    0            0  \n1                    0            0  \n2                    0            0  \n3                    1            0  \n4                    0            0  ",
      "text/html": "<div>\n<style scoped>\n    .dataframe tbody tr th:only-of-type {\n        vertical-align: middle;\n    }\n\n    .dataframe tbody tr th {\n        vertical-align: top;\n    }\n\n    .dataframe thead th {\n        text-align: right;\n    }\n</style>\n<table border=\"1\" class=\"dataframe\">\n  <thead>\n    <tr style=\"text-align: right;\">\n      <th></th>\n      <th>Date</th>\n      <th>Views_show</th>\n      <th>Visitors</th>\n      <th>Views_platform</th>\n      <th>Ad_impression</th>\n      <th>Cricket_match_india</th>\n      <th>Character_A</th>\n    </tr>\n  </thead>\n  <tbody>\n    <tr>\n      <th>0</th>\n      <td>2017-03-01</td>\n      <td>183738</td>\n      <td>1260228</td>\n      <td>1706478</td>\n      <td>1060860448</td>\n      <td>0</td>\n      <td>0</td>\n    </tr>\n    <tr>\n      <th>1</th>\n      <td>2017-03-02</td>\n      <td>193763</td>\n      <td>1270561</td>\n      <td>1690727</td>\n      <td>1031846645</td>\n      <td>0</td>\n      <td>0</td>\n    </tr>\n    <tr>\n      <th>2</th>\n      <td>2017-03-03</td>\n      <td>210479</td>\n      <td>1248183</td>\n      <td>1726157</td>\n      <td>1010867575</td>\n      <td>0</td>\n      <td>0</td>\n    </tr>\n    <tr>\n      <th>3</th>\n      <td>2017-03-04</td>\n      <td>240061</td>\n      <td>1492913</td>\n      <td>1855353</td>\n      <td>1079194579</td>\n      <td>1</td>\n      <td>0</td>\n    </tr>\n    <tr>\n      <th>4</th>\n      <td>2017-03-05</td>\n      <td>446314</td>\n      <td>1594712</td>\n      <td>2041418</td>\n      <td>1357736987</td>\n      <td>0</td>\n      <td>0</td>\n    </tr>\n  </tbody>\n</table>\n</div>"
     },
     "execution_count": 8,
     "metadata": {},
     "output_type": "execute_result"
    }
   ],
   "source": [
    "media.head()"
   ],
   "metadata": {
    "collapsed": false,
    "pycharm": {
     "name": "#%%\n"
    }
   }
  },
  {
   "cell_type": "markdown",
   "source": [
    "### our multiple linear regression looks like\n",
    "$y = \\sum_{i} m_ix_i  + c $"
   ],
   "metadata": {
    "collapsed": false,
    "pycharm": {
     "name": "#%% md\n"
    }
   }
  },
  {
   "cell_type": "code",
   "execution_count": 42,
   "outputs": [],
   "source": [
    "# deriving day since the show started\n",
    "d0 = pd.Timestamp(2017,2,28)\n",
    "d1 = media['Date']\n",
    "delta = d1 - d0\n",
    "media['day'] = delta"
   ],
   "metadata": {
    "collapsed": false,
    "pycharm": {
     "name": "#%%\n"
    }
   }
  },
  {
   "cell_type": "code",
   "execution_count": 43,
   "outputs": [],
   "source": [
    "def cutDate(x):\n",
    "    return int(str(x)[0:2])"
   ],
   "metadata": {
    "collapsed": false,
    "pycharm": {
     "name": "#%%\n"
    }
   }
  },
  {
   "cell_type": "code",
   "execution_count": 48,
   "outputs": [],
   "source": [
    "# converting date to int\n",
    "media['day'] = media['day'].apply(cutDate)"
   ],
   "metadata": {
    "collapsed": false,
    "pycharm": {
     "name": "#%%\n"
    }
   }
  },
  {
   "cell_type": "code",
   "execution_count": 49,
   "outputs": [
    {
     "data": {
      "text/plain": "<Figure size 432x288 with 1 Axes>",
      "image/png": "[encoded data removed]"
     },
     "metadata": {
      "needs_background": "light"
     },
     "output_type": "display_data"
    }
   ],
   "source": [
    "# days vs view show\n",
    "media.plot.line(x='day',y='Views_show')\n",
    "plt.show()"
   ],
   "metadata": {
    "collapsed": false,
    "pycharm": {
     "name": "#%%\n"
    }
   }
  },
  {
   "cell_type": "code",
   "execution_count": null,
   "outputs": [],
   "source": [],
   "metadata": {
    "collapsed": false,
    "pycharm": {
     "name": "#%%\n"
    }
   }
  }
 ],
 "metadata": {
  "kernelspec": {
   "display_name": "Python 3",
   "language": "python",
   "name": "python3"
  },
  "language_info": {
   "codemirror_mode": {
    "name": "ipython",
    "version": 2
   },
   "file_extension": ".py",
   "mimetype": "text/x-python",
   "name": "python",
   "nbconvert_exporter": "python",
   "pygments_lexer": "ipython2",
   "version": "2.7.6"
  }
 },
 "nbformat": 4,
 "nbformat_minor": 0
}